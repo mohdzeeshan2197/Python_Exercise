{
 "cells": [
  {
   "cell_type": "code",
   "execution_count": 1,
   "id": "4f61cb6c",
   "metadata": {},
   "outputs": [],
   "source": [
    "# Write a Python program that defines a function called \"add_numbers\" that takes two arguments (i.e.,\n",
    "# numbers) and returns their sum. Within the function, add the two numbers together and return the result\n",
    "# using the return statement. Call the function with the values 5 and 6, and print out the returned result.\n",
    "# This will result in the addition of 5 and 6, with the output of the program being the sum of these two\n",
    "# numbers."
   ]
  },
  {
   "cell_type": "code",
   "execution_count": 2,
   "id": "d22aa023",
   "metadata": {},
   "outputs": [],
   "source": [
    "def add_numbers(num1,num2):\n",
    "    '''This Function Takes two digits/Numbers and Return the sum'''\n",
    "    return num1+num2"
   ]
  },
  {
   "cell_type": "code",
   "execution_count": 3,
   "id": "bc04f9ab",
   "metadata": {},
   "outputs": [
    {
     "name": "stdout",
     "output_type": "stream",
     "text": [
      "11\n"
     ]
    }
   ],
   "source": [
    "print(add_numbers(5,6))"
   ]
  },
  {
   "cell_type": "code",
   "execution_count": 4,
   "id": "b53c5ec2",
   "metadata": {},
   "outputs": [],
   "source": [
    "# Write a Python program that calculates the square root of a given number using a built-in function.\n",
    "# Specifically, the program should take an integer or float input from the user, calculate its square root\n",
    "# using the 'sqrt()' function from the 'math' module, and print out the result to the user. As an example,\n",
    "# calculate the square root of the number 625 using this program, which should output the value of 25."
   ]
  },
  {
   "cell_type": "code",
   "execution_count": 5,
   "id": "715dd285",
   "metadata": {},
   "outputs": [
    {
     "name": "stdout",
     "output_type": "stream",
     "text": [
      "Enter A Number: 625\n",
      "Square Root of 625.0 is : 25.0\n"
     ]
    }
   ],
   "source": [
    "import math\n",
    "num = float(input(\"Enter A Number: \"))\n",
    "\n",
    "sq = math.sqrt(num)\n",
    "print(f\"Square Root of {num} is : {sq}\")\n"
   ]
  },
  {
   "cell_type": "code",
   "execution_count": 6,
   "id": "fabba4c4",
   "metadata": {},
   "outputs": [],
   "source": [
    "# Write a program that prints all prime numbers between 0 to 50."
   ]
  },
  {
   "cell_type": "code",
   "execution_count": 7,
   "id": "938f6447",
   "metadata": {},
   "outputs": [
    {
     "name": "stdout",
     "output_type": "stream",
     "text": [
      "2\n",
      "3\n",
      "5\n",
      "7\n",
      "11\n",
      "13\n",
      "17\n",
      "19\n",
      "23\n",
      "29\n",
      "31\n",
      "37\n",
      "41\n",
      "43\n",
      "47\n"
     ]
    }
   ],
   "source": [
    "for num in range(2,51):\n",
    "    for i in range(2,num):\n",
    "        if num % i == 0:\n",
    "            break\n",
    "    else:\n",
    "        print(num)"
   ]
  },
  {
   "cell_type": "code",
   "execution_count": 8,
   "id": "113750fa",
   "metadata": {},
   "outputs": [],
   "source": [
    "# How can we swap the values of three variables (let's say a, b, and c) without using a fourth variable?\n",
    "# For example, if we have a=5, b=8, and c=9, how can we obtain a=9, b=5, and c=8? The challenge is to\n",
    "# perform this operation without using an additional variable to store any of the values during the\n",
    "# swapping process."
   ]
  },
  {
   "cell_type": "code",
   "execution_count": 9,
   "id": "65dc03bc",
   "metadata": {},
   "outputs": [],
   "source": [
    "a = 5\n",
    "b = 8\n",
    "c = 9"
   ]
  },
  {
   "cell_type": "code",
   "execution_count": 10,
   "id": "7904dbc9",
   "metadata": {},
   "outputs": [],
   "source": [
    "a,b,c = c,a,b"
   ]
  },
  {
   "cell_type": "code",
   "execution_count": 11,
   "id": "d3a1a57d",
   "metadata": {},
   "outputs": [
    {
     "data": {
      "text/plain": [
       "(9, 5, 8)"
      ]
     },
     "execution_count": 11,
     "metadata": {},
     "output_type": "execute_result"
    }
   ],
   "source": [
    "a,b,c"
   ]
  },
  {
   "cell_type": "code",
   "execution_count": 12,
   "id": "110e5761",
   "metadata": {},
   "outputs": [],
   "source": [
    "# Can you write a program that determines the nature of a given number (in this case, 87) as being\n",
    "# positive, negative, or zero? The program should be designed to take the number as input and perform the\n",
    "# necessary calculations to determine if the number is positive (i.e., greater than zero), negative (i.e., less\n",
    "# than zero), or zero (i.e., equal to zero). The output of the program should indicate which of these three\n",
    "# categories the given number falls into."
   ]
  },
  {
   "cell_type": "code",
   "execution_count": 13,
   "id": "0d1e0b34",
   "metadata": {},
   "outputs": [
    {
     "name": "stdout",
     "output_type": "stream",
     "text": [
      "Enter A Number: 87\n",
      "The 87 is Positive\n"
     ]
    }
   ],
   "source": [
    "num = int(input(\"Enter A Number: \"))\n",
    "\n",
    "if num == 0:\n",
    "    print(f\"The {num} is Zero\")\n",
    "elif num > 0:\n",
    "    print(f\"The {num} is Positive\")\n",
    "else:\n",
    "    print(f\"The {num} is Negative\")"
   ]
  },
  {
   "cell_type": "code",
   "execution_count": 14,
   "id": "7291867d",
   "metadata": {},
   "outputs": [],
   "source": [
    "# How can you create a program that determines whether a given number (in this case, 98) is even or\n",
    "# odd? The program should be designed to take the number as input and perform the necessary\n",
    "# calculations to determine whether it is divisible by two. If the number is divisible by two without leaving a\n",
    "# remainder, it is an even number, and if there is a remainder, it is an odd number. The output of the\n",
    "# program should indicate whether the given number is even or odd."
   ]
  },
  {
   "cell_type": "code",
   "execution_count": 15,
   "id": "c79cf7d7",
   "metadata": {},
   "outputs": [
    {
     "name": "stdout",
     "output_type": "stream",
     "text": [
      "Enter A Number: 98\n",
      "98 is Even\n"
     ]
    }
   ],
   "source": [
    "num = int(input(\"Enter A Number: \"))\n",
    "\n",
    "if num < 1:\n",
    "    print(\"Enter Positive Number\")\n",
    "elif num % 2 == 0:\n",
    "    print(f\"{num} is Even\")\n",
    "else:\n",
    "    print(f\"{num} is Odd\")"
   ]
  },
  {
   "cell_type": "code",
   "execution_count": 16,
   "id": "f28a8c7d",
   "metadata": {},
   "outputs": [],
   "source": [
    "# Write a program for sum of digits.the digits are 76543 and the output should be 25."
   ]
  },
  {
   "cell_type": "code",
   "execution_count": 17,
   "id": "57a37e99",
   "metadata": {},
   "outputs": [
    {
     "name": "stdout",
     "output_type": "stream",
     "text": [
      "Enter A Number76543\n",
      "25\n"
     ]
    }
   ],
   "source": [
    "t = input(\"Enter A Number\")\n",
    "s = 0\n",
    "\n",
    "for i in t:\n",
    "    s += int(i)\n",
    "print(s)"
   ]
  },
  {
   "cell_type": "code",
   "execution_count": 18,
   "id": "22784f53",
   "metadata": {},
   "outputs": [],
   "source": [
    "# Write a program for reversing the given number 5436 and the output should be 6345."
   ]
  },
  {
   "cell_type": "code",
   "execution_count": 19,
   "id": "3bf761c9",
   "metadata": {},
   "outputs": [
    {
     "name": "stdout",
     "output_type": "stream",
     "text": [
      "Enter A Number: 5436\n",
      "6345\n"
     ]
    }
   ],
   "source": [
    "t = input(\"Enter A Number: \")\n",
    "\n",
    "reverse = t[::-1]\n",
    "reverse_int = int(reverse)\n",
    "\n",
    "print(reverse_int)\n"
   ]
  },
  {
   "cell_type": "code",
   "execution_count": 20,
   "id": "d59668cb",
   "metadata": {},
   "outputs": [],
   "source": [
    "# Write a program to check if a given number 371 is an Armstrong number?"
   ]
  },
  {
   "cell_type": "code",
   "execution_count": 21,
   "id": "63a7ce2f",
   "metadata": {},
   "outputs": [
    {
     "name": "stdout",
     "output_type": "stream",
     "text": [
      "Enter A Number to Check Wether A Number is Armstrong or Not: 371\n",
      "371 is a Armstrong Number\n"
     ]
    }
   ],
   "source": [
    "a = int(input(\"Enter A Number to Check Wether A Number is Armstrong or Not: \"))\n",
    "cop = a\n",
    "cube = 0\n",
    "sum_cube = 0\n",
    "while a > 0:\n",
    "    digit = a % 10\n",
    "    sum_cube += (digit**3)\n",
    "    a = a // 10\n",
    "if sum_cube == cop:\n",
    "    print(f\"{cop} is a Armstrong Number\")\n",
    "else:\n",
    "    print(f\"{cop} is Not a Armstrong Number\")\n",
    "\n",
    "    "
   ]
  },
  {
   "cell_type": "code",
   "execution_count": 22,
   "id": "2e2815e3",
   "metadata": {},
   "outputs": [],
   "source": [
    "# Write a program the given year is 1996, a leap year."
   ]
  },
  {
   "cell_type": "code",
   "execution_count": 23,
   "id": "5646a4f1",
   "metadata": {},
   "outputs": [
    {
     "name": "stdout",
     "output_type": "stream",
     "text": [
      "leap\n"
     ]
    }
   ],
   "source": [
    "year = 1996\n",
    "\n",
    "if (year % 400 == 0 and year % 100 == 0):\n",
    "    print('leap')\n",
    "elif (year % 4 == 0):\n",
    "    print(\"leap\")\n",
    "else:\n",
    "    print('Not leap')\n"
   ]
  }
 ],
 "metadata": {
  "kernelspec": {
   "display_name": "Python 3 (ipykernel)",
   "language": "python",
   "name": "python3"
  },
  "language_info": {
   "codemirror_mode": {
    "name": "ipython",
    "version": 3
   },
   "file_extension": ".py",
   "mimetype": "text/x-python",
   "name": "python",
   "nbconvert_exporter": "python",
   "pygments_lexer": "ipython3",
   "version": "3.9.16"
  }
 },
 "nbformat": 4,
 "nbformat_minor": 5
}
