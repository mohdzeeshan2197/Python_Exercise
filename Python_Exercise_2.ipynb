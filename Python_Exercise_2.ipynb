{
 "cells": [
  {
   "cell_type": "code",
   "execution_count": 1,
   "id": "e623691a",
   "metadata": {},
   "outputs": [],
   "source": [
    "# Create a list in python using the followings: 2,3,4,5,6,7 with variable ‘a’\n",
    "# Add ‘mango to the above list\n",
    "# Also add banana, grapes & orange in the list\n",
    "# insert apple in the 5th position of a variable ‘a’\n",
    "# Remove last item from the list"
   ]
  },
  {
   "cell_type": "code",
   "execution_count": 2,
   "id": "bc33686b",
   "metadata": {},
   "outputs": [],
   "source": [
    "a =[2,3,4,5,6,7]"
   ]
  },
  {
   "cell_type": "code",
   "execution_count": 3,
   "id": "e6881aca",
   "metadata": {},
   "outputs": [],
   "source": [
    "a.append('mango')"
   ]
  },
  {
   "cell_type": "code",
   "execution_count": 4,
   "id": "d1594dd4",
   "metadata": {},
   "outputs": [
    {
     "data": {
      "text/plain": [
       "[2, 3, 4, 5, 6, 7, 'mango']"
      ]
     },
     "execution_count": 4,
     "metadata": {},
     "output_type": "execute_result"
    }
   ],
   "source": [
    "a"
   ]
  },
  {
   "cell_type": "code",
   "execution_count": 5,
   "id": "d19849a4",
   "metadata": {},
   "outputs": [],
   "source": [
    "a.append('banana')"
   ]
  },
  {
   "cell_type": "code",
   "execution_count": 6,
   "id": "5c8151a6",
   "metadata": {},
   "outputs": [],
   "source": [
    "a.append('grapes')"
   ]
  },
  {
   "cell_type": "code",
   "execution_count": 7,
   "id": "363160fe",
   "metadata": {},
   "outputs": [],
   "source": [
    "a.append('orange')"
   ]
  },
  {
   "cell_type": "code",
   "execution_count": 8,
   "id": "b28c50c6",
   "metadata": {},
   "outputs": [
    {
     "data": {
      "text/plain": [
       "[2, 3, 4, 5, 6, 7, 'mango', 'banana', 'grapes', 'orange']"
      ]
     },
     "execution_count": 8,
     "metadata": {},
     "output_type": "execute_result"
    }
   ],
   "source": [
    "a"
   ]
  },
  {
   "cell_type": "code",
   "execution_count": 9,
   "id": "c8dc53fe",
   "metadata": {},
   "outputs": [],
   "source": [
    "a.insert(5,'apple')"
   ]
  },
  {
   "cell_type": "code",
   "execution_count": 10,
   "id": "05ecb945",
   "metadata": {},
   "outputs": [
    {
     "data": {
      "text/plain": [
       "[2, 3, 4, 5, 6, 'apple', 7, 'mango', 'banana', 'grapes', 'orange']"
      ]
     },
     "execution_count": 10,
     "metadata": {},
     "output_type": "execute_result"
    }
   ],
   "source": [
    "a"
   ]
  },
  {
   "cell_type": "code",
   "execution_count": 11,
   "id": "5e116066",
   "metadata": {},
   "outputs": [
    {
     "data": {
      "text/plain": [
       "5"
      ]
     },
     "execution_count": 11,
     "metadata": {},
     "output_type": "execute_result"
    }
   ],
   "source": [
    "a.index('apple')"
   ]
  },
  {
   "cell_type": "code",
   "execution_count": 12,
   "id": "dcb025cc",
   "metadata": {},
   "outputs": [
    {
     "data": {
      "text/plain": [
       "'orange'"
      ]
     },
     "execution_count": 12,
     "metadata": {},
     "output_type": "execute_result"
    }
   ],
   "source": [
    "a.pop()"
   ]
  },
  {
   "cell_type": "code",
   "execution_count": 13,
   "id": "ad477509",
   "metadata": {},
   "outputs": [
    {
     "data": {
      "text/plain": [
       "[2, 3, 4, 5, 6, 'apple', 7, 'mango', 'banana', 'grapes']"
      ]
     },
     "execution_count": 13,
     "metadata": {},
     "output_type": "execute_result"
    }
   ],
   "source": [
    "a"
   ]
  },
  {
   "cell_type": "code",
   "execution_count": 14,
   "id": "9c6e4919",
   "metadata": {},
   "outputs": [],
   "source": [
    "# Using the above list slice from 1:4\n",
    "\n",
    "l = [1,2,3,4,5,6,7]"
   ]
  },
  {
   "cell_type": "code",
   "execution_count": 15,
   "id": "c829757f",
   "metadata": {},
   "outputs": [
    {
     "data": {
      "text/plain": [
       "[1, 2, 3, 4, 5, 6, 7]"
      ]
     },
     "execution_count": 15,
     "metadata": {},
     "output_type": "execute_result"
    }
   ],
   "source": [
    "l"
   ]
  },
  {
   "cell_type": "code",
   "execution_count": 16,
   "id": "b3464522",
   "metadata": {},
   "outputs": [
    {
     "data": {
      "text/plain": [
       "[2, 3, 4]"
      ]
     },
     "execution_count": 16,
     "metadata": {},
     "output_type": "execute_result"
    }
   ],
   "source": [
    "l[1:4]"
   ]
  },
  {
   "cell_type": "code",
   "execution_count": 17,
   "id": "1bdaa989",
   "metadata": {},
   "outputs": [],
   "source": [
    "# Reverse the order of given string L = [4,5,6,8,3] Without using reverse() function."
   ]
  },
  {
   "cell_type": "code",
   "execution_count": 18,
   "id": "57045148",
   "metadata": {},
   "outputs": [],
   "source": [
    "L = [4,5,6,8,3]"
   ]
  },
  {
   "cell_type": "code",
   "execution_count": 19,
   "id": "6f41fbfb",
   "metadata": {},
   "outputs": [
    {
     "data": {
      "text/plain": [
       "[3, 8, 6, 5, 4]"
      ]
     },
     "execution_count": 19,
     "metadata": {},
     "output_type": "execute_result"
    }
   ],
   "source": [
    "L[::-1]"
   ]
  },
  {
   "cell_type": "code",
   "execution_count": 20,
   "id": "fcccadaa",
   "metadata": {},
   "outputs": [],
   "source": [
    "# Use list comprehension to square the given list L=[2,4,7,3,6,8]"
   ]
  },
  {
   "cell_type": "code",
   "execution_count": 21,
   "id": "25314650",
   "metadata": {},
   "outputs": [],
   "source": [
    "L = [2,4,7,3,6,8]"
   ]
  },
  {
   "cell_type": "code",
   "execution_count": 22,
   "id": "cf702f4d",
   "metadata": {},
   "outputs": [
    {
     "data": {
      "text/plain": [
       "[2, 4, 7, 3, 6, 8]"
      ]
     },
     "execution_count": 22,
     "metadata": {},
     "output_type": "execute_result"
    }
   ],
   "source": [
    "L"
   ]
  },
  {
   "cell_type": "code",
   "execution_count": 23,
   "id": "d6b5f9a0",
   "metadata": {},
   "outputs": [
    {
     "data": {
      "text/plain": [
       "[4, 16, 49, 9, 36, 64]"
      ]
     },
     "execution_count": 23,
     "metadata": {},
     "output_type": "execute_result"
    }
   ],
   "source": [
    "[i**2 for i in L]"
   ]
  },
  {
   "cell_type": "code",
   "execution_count": 24,
   "id": "d7486edd",
   "metadata": {},
   "outputs": [],
   "source": [
    "# Create a function that takes in a tuple of integers and returns the sum of the integers. Test the function with a \n",
    "# tuple of your choice."
   ]
  },
  {
   "cell_type": "code",
   "execution_count": 25,
   "id": "ae7b3c30",
   "metadata": {},
   "outputs": [],
   "source": [
    "def tuple_sum(tup):\n",
    "    \n",
    "    '''---This function take a integers tuple and return the sum of the integers---'''\n",
    "    s = 0\n",
    "    for i in tup:\n",
    "        s += i\n",
    "    return \"Sum of Tuple Eelememts: \",s"
   ]
  },
  {
   "cell_type": "code",
   "execution_count": 26,
   "id": "ce0e7455",
   "metadata": {},
   "outputs": [],
   "source": [
    "t= (2,3,4,5,8)"
   ]
  },
  {
   "cell_type": "code",
   "execution_count": 27,
   "id": "57d6ff1b",
   "metadata": {},
   "outputs": [
    {
     "data": {
      "text/plain": [
       "('Sum of Tuple Eelememts: ', 22)"
      ]
     },
     "execution_count": 27,
     "metadata": {},
     "output_type": "execute_result"
    }
   ],
   "source": [
    "tuple_sum(t)"
   ]
  },
  {
   "cell_type": "code",
   "execution_count": 28,
   "id": "663f7a21",
   "metadata": {},
   "outputs": [],
   "source": [
    "# Create two sets of your favourite fruits, and use the union() method to combine them into a single set.\n",
    "# Print the resulting set to the console."
   ]
  },
  {
   "cell_type": "code",
   "execution_count": 29,
   "id": "02c4ec9c",
   "metadata": {},
   "outputs": [],
   "source": [
    "s1 = {'apple','banana','grapes','orange'}\n",
    "s2 = {'pineapple','kiwi','watermelon','cherry'}"
   ]
  },
  {
   "cell_type": "code",
   "execution_count": 30,
   "id": "7a55166d",
   "metadata": {},
   "outputs": [],
   "source": [
    "s1_s2 = s1.union(s2)"
   ]
  },
  {
   "cell_type": "code",
   "execution_count": 31,
   "id": "84ead3b7",
   "metadata": {},
   "outputs": [
    {
     "name": "stdout",
     "output_type": "stream",
     "text": [
      "{'cherry', 'kiwi', 'grapes', 'orange', 'banana', 'pineapple', 'watermelon', 'apple'}\n"
     ]
    }
   ],
   "source": [
    "print(s1_s2)"
   ]
  },
  {
   "cell_type": "code",
   "execution_count": 32,
   "id": "aac2ecd9",
   "metadata": {},
   "outputs": [],
   "source": [
    "# Create a set of random words, and use the add() method to add a new word to the set. Print the\n",
    "# resulting set to the console."
   ]
  },
  {
   "cell_type": "code",
   "execution_count": 33,
   "id": "98e4e3f5",
   "metadata": {},
   "outputs": [],
   "source": [
    "random_words = {'a','b','c'}"
   ]
  },
  {
   "cell_type": "code",
   "execution_count": 34,
   "id": "b2ac0d8a",
   "metadata": {},
   "outputs": [],
   "source": [
    "random_words.add('abc')"
   ]
  },
  {
   "cell_type": "code",
   "execution_count": 35,
   "id": "a7bec64d",
   "metadata": {},
   "outputs": [
    {
     "name": "stdout",
     "output_type": "stream",
     "text": [
      "{'c', 'a', 'abc', 'b'}\n"
     ]
    }
   ],
   "source": [
    "print(random_words)"
   ]
  },
  {
   "cell_type": "code",
   "execution_count": 36,
   "id": "e9c20613",
   "metadata": {},
   "outputs": [],
   "source": [
    "# Create a set of your favourite animals, and use the remove() method to remove one animal from the\n",
    "# set. Print the resulting set to the console."
   ]
  },
  {
   "cell_type": "code",
   "execution_count": 37,
   "id": "9593b5db",
   "metadata": {},
   "outputs": [],
   "source": [
    "s = {'Tiger','Lion','Wolf','Dog','Cat','Elephant','Fox'}"
   ]
  },
  {
   "cell_type": "code",
   "execution_count": 38,
   "id": "5830417d",
   "metadata": {},
   "outputs": [
    {
     "data": {
      "text/plain": [
       "{'Cat', 'Dog', 'Elephant', 'Fox', 'Lion', 'Tiger', 'Wolf'}"
      ]
     },
     "execution_count": 38,
     "metadata": {},
     "output_type": "execute_result"
    }
   ],
   "source": [
    "s"
   ]
  },
  {
   "cell_type": "code",
   "execution_count": 39,
   "id": "907b8847",
   "metadata": {},
   "outputs": [],
   "source": [
    "s.remove('Dog')"
   ]
  },
  {
   "cell_type": "code",
   "execution_count": 40,
   "id": "63f1eb59",
   "metadata": {},
   "outputs": [
    {
     "name": "stdout",
     "output_type": "stream",
     "text": [
      "{'Fox', 'Cat', 'Lion', 'Elephant', 'Wolf', 'Tiger'}\n"
     ]
    }
   ],
   "source": [
    "print(s)"
   ]
  },
  {
   "cell_type": "code",
   "execution_count": 41,
   "id": "f8d0e678",
   "metadata": {},
   "outputs": [],
   "source": [
    "# favorite_books = {\"1984\", \"To Kill a Mockingbird\", \"Pride and Prejudice\"}\n",
    "# favorite_movies = [\"The Shawshank Redemption\", \"The Godfather\", \"The Dark Knight\"]\n",
    "# Use the zip() function to combine the book set and movie list into a list of tuples representing book/\n",
    "# movie pairs. Print the resulting list."
   ]
  },
  {
   "cell_type": "code",
   "execution_count": 42,
   "id": "b872242a",
   "metadata": {},
   "outputs": [],
   "source": [
    "favorite_books = {\"1984\", \"To Kill a Mockingbird\", \"Pride and Prejudice\"}\n",
    "favorite_movies = [\"The Shawshank Redemption\", \"The Godfather\", \"The Dark Knight\"]"
   ]
  },
  {
   "cell_type": "code",
   "execution_count": 43,
   "id": "42cc5645",
   "metadata": {},
   "outputs": [],
   "source": [
    "combine = zip(favorite_books,favorite_movies)"
   ]
  },
  {
   "cell_type": "code",
   "execution_count": 44,
   "id": "5f60c17f",
   "metadata": {},
   "outputs": [
    {
     "name": "stdout",
     "output_type": "stream",
     "text": [
      "[('Pride and Prejudice', 'The Shawshank Redemption'), ('1984', 'The Godfather'), ('To Kill a Mockingbird', 'The Dark Knight')]\n"
     ]
    }
   ],
   "source": [
    "l = []\n",
    "for i in combine:\n",
    "    l.append(i)\n",
    "print(l)"
   ]
  },
  {
   "cell_type": "code",
   "execution_count": 45,
   "id": "7ffc0934",
   "metadata": {},
   "outputs": [
    {
     "name": "stdout",
     "output_type": "stream",
     "text": [
      "[('Pride and Prejudice', 'The Shawshank Redemption'), ('1984', 'The Godfather'), ('To Kill a Mockingbird', 'The Dark Knight')]\n"
     ]
    }
   ],
   "source": [
    "print(list(zip(favorite_books,favorite_movies)))"
   ]
  }
 ],
 "metadata": {
  "kernelspec": {
   "display_name": "Python 3 (ipykernel)",
   "language": "python",
   "name": "python3"
  },
  "language_info": {
   "codemirror_mode": {
    "name": "ipython",
    "version": 3
   },
   "file_extension": ".py",
   "mimetype": "text/x-python",
   "name": "python",
   "nbconvert_exporter": "python",
   "pygments_lexer": "ipython3",
   "version": "3.9.16"
  }
 },
 "nbformat": 4,
 "nbformat_minor": 5
}
